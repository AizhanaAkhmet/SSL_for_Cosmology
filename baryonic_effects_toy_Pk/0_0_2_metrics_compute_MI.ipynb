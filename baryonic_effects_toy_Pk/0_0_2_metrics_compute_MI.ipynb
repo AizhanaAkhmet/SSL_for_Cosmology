{
 "cells": [
  {
   "cell_type": "code",
   "execution_count": 1,
   "id": "7adfed9a-cc37-4b37-90ba-b4b221b95d91",
   "metadata": {},
   "outputs": [
    {
     "name": "stderr",
     "output_type": "stream",
     "text": [
      "/n/home11/aakhmetzhanova/.conda/envs/simclr_env/lib/python3.9/site-packages/tqdm/auto.py:22: TqdmWarning: IProgress not found. Please update jupyter and ipywidgets. See https://ipywidgets.readthedocs.io/en/stable/user_install.html\n",
      "  from .autonotebook import tqdm as notebook_tqdm\n"
     ]
    }
   ],
   "source": [
    "import sys, os, math\n",
    "import numpy as np\n",
    "import torch\n",
    "import torchvision\n",
    "import matplotlib.pyplot as plt\n",
    "import importlib\n",
    "\n",
    "import torch.nn as nn\n",
    "from torch.functional import F\n",
    "import torch.distributions as dist\n",
    "from torch.utils.data import DataLoader, TensorDataset, random_split\n",
    "\n",
    "sys.path.append('../')\n",
    "from utils_modules.models import Expander, vector_to_Cov\n",
    "from utils_modules.vicreg import vicreg_loss\n",
    "import utils_modules.data as utils_data\n",
    "import utils_modules.baryons_toy_Pk as utils_toy_Pk\n",
    "from scipy import stats\n",
    "\n",
    "from torch.autograd import Variable\n",
    "import torch.nn.functional as F\n",
    "from tqdm import tqdm"
   ]
  },
  {
   "cell_type": "code",
   "execution_count": 2,
   "id": "85f61b88-be63-4fe0-931c-2231b435210c",
   "metadata": {},
   "outputs": [
    {
     "name": "stdout",
     "output_type": "stream",
     "text": [
      "Device: cuda\n"
     ]
    }
   ],
   "source": [
    "# select device; use GPU if available\n",
    "device = torch.device(\"cuda\" if torch.cuda.is_available() else \"cpu\")\n",
    "print('Device: %s'%(device))"
   ]
  },
  {
   "cell_type": "markdown",
   "id": "8416444c-b2d1-437b-8488-7598f33451fb",
   "metadata": {},
   "source": [
    "## Generate parameters"
   ]
  },
  {
   "cell_type": "code",
   "execution_count": 3,
   "id": "62caf8a1-60ae-4da0-ac26-fe954cfa425b",
   "metadata": {},
   "outputs": [],
   "source": [
    "kmin  = 7e-3 #h/Mpc\n",
    "kmax = 1\n",
    "\n",
    "kF     = kmin\n",
    "k_bins = int((kmax-kmin)/kF)\n",
    "k      = np.arange(3,k_bins+2)*kF \n",
    "Nk     = 4.0*np.pi*k**2*kF/kF**3  #number of modes in each k-bin\n",
    "\n",
    "# model parameters\n",
    "predict_D     = True\n",
    "Pk_continuous = True #whether fix A_value for kpivot or not\n",
    "\n",
    "dset_size = 10000\n",
    "seed = 17\n",
    "splits = 1\n",
    "\n",
    "plot=True\n",
    "verbose=True"
   ]
  },
  {
   "cell_type": "code",
   "execution_count": 4,
   "id": "25800cdc-cc9f-44d9-8fca-aa7761480228",
   "metadata": {},
   "outputs": [],
   "source": [
    "params = utils_toy_Pk.generate_params(dset_size, splits, \n",
    "                                                   predict_D = predict_D, \n",
    "                                                   Pk_continuous = Pk_continuous,\n",
    "                                                    seed=seed)\n",
    "params = params.reshape(dset_size, splits, -1)\n",
    "\n",
    "Pk = utils_toy_Pk.get_Pk_arr(k, Nk, params, predict_D = predict_D, seed=seed)\n",
    "log_Pk = torch.tensor(np.log(Pk).reshape(-1, len(k))).float().to(device)"
   ]
  },
  {
   "cell_type": "markdown",
   "id": "c11ca575-1cc5-49c2-bd57-304434a002d0",
   "metadata": {},
   "source": [
    "### Load models"
   ]
  },
  {
   "cell_type": "code",
   "execution_count": 6,
   "id": "5d48c6af-8c4f-44ea-a4d5-d8af03193f01",
   "metadata": {},
   "outputs": [],
   "source": [
    "# define the encoder model\n",
    "hidden = 16\n",
    "last_layer = 32\n",
    "args_net = [hidden, \n",
    "            last_layer, last_layer, last_layer, \n",
    "            last_layer, last_layer, last_layer]\n",
    "###########\n",
    "inv, var, cov = 15, 15, 1\n",
    "fmodel = 'trained_models/VICReg_{:d}_{:d}_{:d}.pt'.format(inv, var, cov)\n",
    "fout   = 'trained_models/VICReg_{:d}_{:d}_{:d}.txt'.format(inv, var, cov)\n",
    "\n",
    "\n",
    "net = Expander(args_net, k.shape[0], bn = True).to(device)\n",
    "net.load_state_dict(torch.load(fmodel))\n",
    "net.eval(); \n",
    "\n",
    "###########\n",
    "inv, var, cov = 15, 15, 1\n",
    "fmodel = 'trained_models/VICReg_cosmic_var_{:d}_{:d}_{:d}.pt'.format(inv, var, cov)\n",
    "fout   = 'trained_models/VICReg_cosmic_var_{:d}_{:d}_{:d}.txt'.format(inv, var, cov)\n",
    "\n",
    "net_cv = Expander(args_net, k.shape[0], bn = True).to(device)\n",
    "net_cv.load_state_dict(torch.load(fmodel))\n",
    "net_cv.eval(); \n",
    "\n"
   ]
  },
  {
   "cell_type": "code",
   "execution_count": 7,
   "id": "ec24b515-123b-4a4e-baac-dc70cb79c2a4",
   "metadata": {},
   "outputs": [],
   "source": [
    "embedds = net(log_Pk)\n",
    "embedds_cv = net_cv(log_Pk)\n",
    "\n",
    "embedds_arr = [embedds, embedds_cv]\n",
    "\n",
    "labels =  ['D varies + cosmic variance',\n",
    "           'D constant + cosmic variance']\n",
    "markers = ['>', 'o']\n",
    "colors = ['r', 'b']"
   ]
  },
  {
   "cell_type": "markdown",
   "id": "97b151f8-aa0f-44d9-a8f5-c7acc03108eb",
   "metadata": {},
   "source": [
    "## Compute Mutual Information"
   ]
  },
  {
   "cell_type": "code",
   "execution_count": 8,
   "id": "3ec916ae-2c99-429a-9a1e-68ef58c2cb2c",
   "metadata": {},
   "outputs": [],
   "source": [
    "# the code to compute MI with MINE is from\n",
    "#https://www.cs.cityu.edu.hk/~ccha23/miml/miml.html\n",
    "class Net(nn.Module):\n",
    "    def __init__(self, input_size=2, hidden_size=100, sigma=0.02):\n",
    "        super().__init__()\n",
    "        # fully-connected (fc) layers\n",
    "        self.fc1 = nn.Linear(input_size, hidden_size)\n",
    "        self.fc2 = nn.Linear(hidden_size, hidden_size)  # layer 2\n",
    "        self.fc3 = nn.Linear(hidden_size, 1)  # layer 3\n",
    "        nn.init.normal_(self.fc1.weight, std=sigma)  #\n",
    "        nn.init.constant_(self.fc1.bias, 0)\n",
    "        nn.init.normal_(self.fc2.weight, std=sigma)\n",
    "        nn.init.constant_(self.fc2.bias, 0)\n",
    "        nn.init.normal_(self.fc3.weight, std=sigma)\n",
    "        nn.init.constant_(self.fc3.bias, 0)\n",
    "\n",
    "    def forward(self, x, y):\n",
    "        \"\"\"\n",
    "        Vectorized function that implements the neural network t(x,y).\n",
    "\n",
    "        Parameters:\n",
    "        -----------\n",
    "        x, y: 2D Tensors where the first dimensions index different samples.\n",
    "        \"\"\"\n",
    "        a1 = F.elu(self.fc1(torch.cat([x, y], dim=-1)))\n",
    "        a2 = F.elu(self.fc2(a1))\n",
    "        t = self.fc3(a2)\n",
    "        return t\n",
    "\n",
    "    \n",
    "################\n",
    "class MINETrainer:\n",
    "    def __init__(\n",
    "        self, X, Y, net, n_iters_per_epoch, m=1, beta=0.1, **kwargs):\n",
    "        \"\"\"\n",
    "        Neural estimator for Mutual Information based on MINE.\n",
    "\n",
    "        Estimate I(X;Y) using samples of X and Y by training a network t to maximize\n",
    "            avg(t(X,Y)) - avg(e^t(X',Y')) / m\n",
    "        where samples of (X',Y') approximates P_X * P_Y using the resampling trick, and\n",
    "        m is obtained by smoothing avg(e^t(X',Y')) with the factor beta.\n",
    "\n",
    "        parameters:\n",
    "        -----------\n",
    "\n",
    "        X, Y : Tensors with first dimensions of the same size indicing the samples.\n",
    "        net  : The neural network t that takes X and Y as input and output a real number for each a real number for each sample.\n",
    "        n_iters_per_epoch : Number of iterations per epoch.\n",
    "        m    : initial value for the moving average\n",
    "        beta : Smoothing/forgetting factor between [0,1]\n",
    "        writer_params     : Parameters to be passed to SummaryWriter for logging.\n",
    "        \"\"\"\n",
    "        self.X = X\n",
    "        self.Y = Y\n",
    "        self.n = min(X.shape[0], Y.shape[0])\n",
    "        self.beta = beta\n",
    "        self.m = m\n",
    "        self.net = net\n",
    "        self.n_iters_per_epoch = n_iters_per_epoch\n",
    "\n",
    "        # set optimizer\n",
    "        self.optimizer = torch.optim.Adam(self.net.parameters(), **kwargs)\n",
    "\n",
    "        self.n_iter = self.n_epoch = 0\n",
    "\n",
    "    def step(self, epochs=1):\n",
    "        \"\"\"\n",
    "        Carries out the gradient descend for a number of epochs and returns the MI estimate evaluated over the entire data.\n",
    "\n",
    "        Loss for each epoch is recorded into the log, but only one MI estimate is computed/logged using the entire dataset.\n",
    "        Rerun the method to continue to train the neural network and log the results.\n",
    "\n",
    "        Parameters:\n",
    "        -----------\n",
    "        epochs : number of epochs\n",
    "        \"\"\"\n",
    "        for i in range(epochs):\n",
    "            self.n_epoch += 1\n",
    "\n",
    "            # random indices for selecting samples for all batches in one epoch\n",
    "            idx = torch.randperm(self.n)\n",
    "\n",
    "            # resampling to approximate the sampling of (X',Y')\n",
    "            idx_X = torch.randperm(self.n)\n",
    "            idx_Y = torch.randperm(self.n)\n",
    "\n",
    "            for j in range(self.n_iters_per_epoch):  # loop through multiple batches\n",
    "                self.n_iter += 1\n",
    "                self.optimizer.zero_grad()\n",
    "\n",
    "                # obtain a random batch of samples\n",
    "                batch_X = self.X[idx[j : self.n : self.n_iters_per_epoch]]\n",
    "                batch_Y = self.Y[idx[j : self.n : self.n_iters_per_epoch]]\n",
    "                batch_X_ref = self.X[idx_X[j : self.n : self.n_iters_per_epoch]]\n",
    "                batch_Y_ref = self.Y[idx_Y[j : self.n : self.n_iters_per_epoch]]\n",
    "\n",
    "                # define the loss\n",
    "                # BEGIN SOLUTION\n",
    "                L = -self.net(batch_X, batch_Y).mean()\n",
    "                L_ = self.net(batch_X_ref, batch_Y_ref).exp().mean()\n",
    "                self.m = (1 - self.beta) * L_.detach() + self.beta * self.m\n",
    "                loss = L + L_ / self.m\n",
    "                # END SOLUTION\n",
    "                loss.backward()\n",
    "                self.optimizer.step()\n",
    "\n",
    "            \n",
    "        with torch.no_grad():\n",
    "            idx_X = torch.randperm(self.n)\n",
    "            idx_Y = torch.randperm(self.n)\n",
    "            X_ref = self.X[idx_X]\n",
    "            Y_ref = self.Y[idx_Y]\n",
    "            estimate = (\n",
    "                self.net(self.X, self.Y).mean()\n",
    "                - self.net(X_ref, Y_ref).logsumexp(0)\n",
    "                + np.log(self.n)\n",
    "            ).item()\n",
    "            return estimate"
   ]
  },
  {
   "cell_type": "markdown",
   "id": "d28d3456-1e5a-4702-9e48-6d690821e54e",
   "metadata": {},
   "source": [
    "# (1) D constant"
   ]
  },
  {
   "cell_type": "code",
   "execution_count": 9,
   "id": "0e9943f4-eb5e-4fb0-aa03-5927f20d86f7",
   "metadata": {},
   "outputs": [],
   "source": [
    "Pk_ary = np.log(Pk).reshape(-1, len(k))\n",
    "features = embedds_cv.cpu().detach().numpy()\n",
    "input_length = 1 + features.shape[1]"
   ]
  },
  {
   "cell_type": "markdown",
   "id": "068ad62e-69dc-4165-8c6d-d9f57cec717d",
   "metadata": {},
   "source": [
    "## (1.1) Example with just one $k$-bin"
   ]
  },
  {
   "cell_type": "code",
   "execution_count": null,
   "id": "0fc3a62f-ddce-4e02-a1b8-38dc70933bd9",
   "metadata": {},
   "outputs": [],
   "source": [
    "mine_net = Net(input_length).to(device)\n",
    "trainer = MINETrainer(torch.from_numpy(Pk_ary[:, -2:-1]).type(torch.FloatTensor).to(device), \n",
    "                      torch.from_numpy(features).type(torch.FloatTensor).to(device), \n",
    "                      mine_net, n_iters_per_epoch=5)\n",
    "\n",
    "MI_estimates = []\n",
    "for i in range(10000):\n",
    "    MI_estimates.append(trainer.step())\n",
    "    if (i+1) % 500 == 0:\n",
    "        print('MI estimate:', MI_estimates[-1])"
   ]
  },
  {
   "cell_type": "code",
   "execution_count": 14,
   "id": "9589c731-ef20-42c3-a2df-d65f738684b6",
   "metadata": {},
   "outputs": [
    {
     "data": {
      "text/plain": [
       "[<matplotlib.lines.Line2D at 0x2aea2dab75e0>]"
      ]
     },
     "execution_count": 14,
     "metadata": {},
     "output_type": "execute_result"
    },
    {
     "data": {
      "image/png": "[encoded data removed]",
      "text/plain": [
       "<Figure size 432x288 with 1 Axes>"
      ]
     },
     "metadata": {
      "needs_background": "light"
     },
     "output_type": "display_data"
    }
   ],
   "source": [
    "plt.plot(MI_estimates)"
   ]
  },
  {
   "cell_type": "markdown",
   "id": "94422d39-17ad-4632-a646-3b8010f3517f",
   "metadata": {},
   "source": [
    "## (1.2) Compute MI for each $k$-bin"
   ]
  },
  {
   "cell_type": "code",
   "execution_count": null,
   "id": "33a43095-b7a3-44f8-8954-d9b8f8967e0a",
   "metadata": {},
   "outputs": [],
   "source": [
    "num_k_bins = Pk_ary.shape[1]\n",
    "num_epochs = 10_000\n",
    "n_iters_per_epoch=5\n",
    "\n",
    "\n",
    "features = embedds_cv.cpu().detach().type(torch.FloatTensor).to(device)\n",
    "input_length = 1 + features.shape[1]\n",
    "\n",
    "all_MI = []\n",
    "for i in range(num_k_bins):\n",
    "    Pk_bin = torch.from_numpy(Pk_ary[:, i:(i+1)]).type(torch.FloatTensor).to(device)\n",
    "    mine_net = Net(input_length).to(device)\n",
    "    trainer = MINETrainer(Pk_bin, features, \n",
    "                          mine_net, n_iters_per_epoch=n_iters_per_epoch)\n",
    "    \n",
    "    MI_estimates = []\n",
    "    for j in range(num_epochs):\n",
    "        MI_estimates.append(trainer.step())\n",
    "        \n",
    "    \n",
    "    all_MI.append(np.array(MI_estimates))\n",
    "    np.save('MI_results/MI_D_constant_BPL.npy', np.array(all_MI),)\n",
    "    print('k-bin: ', i+1)"
   ]
  },
  {
   "cell_type": "markdown",
   "id": "e3f2e153-1c3d-4795-85e9-292e7c2b6dfb",
   "metadata": {},
   "source": [
    "## (2) D varies"
   ]
  },
  {
   "cell_type": "code",
   "execution_count": null,
   "id": "7f749935-0633-4e60-999f-3c7fe5aa723f",
   "metadata": {},
   "outputs": [],
   "source": [
    "Pk_ary = np.log(Pk).reshape(-1, len(k))\n",
    "features = embedds.cpu().detach().numpy()\n",
    "input_length = 1 + features.shape[1]"
   ]
  },
  {
   "cell_type": "code",
   "execution_count": null,
   "id": "1141face-5fe8-4159-b834-16a3b1e950d8",
   "metadata": {},
   "outputs": [],
   "source": [
    "num_k_bins = Pk_ary.shape[1]\n",
    "num_epochs = 10_000\n",
    "n_iters_per_epoch=5\n",
    "\n",
    "input_length = 1 + features.shape[1]\n",
    "features = embedds.cpu().detach().type(torch.FloatTensor).to(device)\n",
    "\n",
    "all_MI = []\n",
    "for i in range(num_k_bins):\n",
    "    Pk_bin = torch.from_numpy(Pk_ary[:, i:(i+1)]).type(torch.FloatTensor).to(device)\n",
    "    mine_net = Net(input_length).to(device)\n",
    "    trainer = MINETrainer(Pk_bin, features, \n",
    "                          mine_net, n_iters_per_epoch=n_iters_per_epoch)\n",
    "    \n",
    "    MI_estimates = []\n",
    "    for j in range(num_epochs):\n",
    "        MI_estimates.append(trainer.step())\n",
    "        \n",
    "    \n",
    "    all_MI.append(np.array(MI_estimates))\n",
    "    np.save('MI_results/MI_D_varies_BPL.npy', np.array(all_MI),)\n",
    "    print('k-bin: ', i+1)"
   ]
  },
  {
   "cell_type": "code",
   "execution_count": null,
   "id": "5d223999-d3b9-435e-ad55-ace99fecb489",
   "metadata": {},
   "outputs": [],
   "source": []
  }
 ],
 "metadata": {
  "kernelspec": {
   "display_name": "simclr_env",
   "language": "python",
   "name": "simclr_env"
  },
  "language_info": {
   "codemirror_mode": {
    "name": "ipython",
    "version": 3
   },
   "file_extension": ".py",
   "mimetype": "text/x-python",
   "name": "python",
   "nbconvert_exporter": "python",
   "pygments_lexer": "ipython3",
   "version": "3.9.12"
  }
 },
 "nbformat": 4,
 "nbformat_minor": 5
}
