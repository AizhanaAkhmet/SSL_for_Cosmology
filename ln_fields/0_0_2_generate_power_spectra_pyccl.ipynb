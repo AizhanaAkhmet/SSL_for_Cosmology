{
 "cells": [
  {
   "cell_type": "code",
   "execution_count": 1,
   "id": "d1bd3309-0ef5-4251-a2f5-c62a05c9fb90",
   "metadata": {},
   "outputs": [],
   "source": [
    "import numpy as np\n",
    "import pyccl as ccl\n",
    "import matplotlib.pyplot as plt"
   ]
  },
  {
   "cell_type": "code",
   "execution_count": null,
   "id": "58a6a094-bfbe-4281-8d19-c31a6879f586",
   "metadata": {},
   "outputs": [],
   "source": [
    "LH_params = np.load(...) # load cosmological parameters (OmegaM, sigma8)\n",
    "# fix other cosmological parameters\n",
    "OmegaB = 0.05\n",
    "h = 0.7\n",
    "ns = 0.96\n",
    "\n",
    "# array of k-values\n",
    "kmax = 0.\n",
    "kmin = -3\n",
    "num_points = 100\n",
    "k = np.logspace(kmin,kmax, num_points)\n",
    "\n",
    "Pk_non_lin = []\n",
    "Pk_lin     = []\n",
    "k_array    = []\n",
    "\n",
    "for i in range(LH_params.shape[0]):\n",
    "    params_ind = LH_params[i, :]\n",
    "    OmegaM = params_ind[0]\n",
    "    sigma8 = params_ind[1]\n",
    "    \n",
    "    OmegaC = OmegaM - OmegaB\n",
    "    \n",
    "    h=0.7\n",
    "    ns = 0.96\n",
    "    \n",
    "    kmax = 0.\n",
    "    kmin = -3\n",
    "    num_points = 100\n",
    "    k = np.logspace(kmin,kmax, num_points)\n",
    "    \n",
    "    # define CCL cosmology with given cosmological parameters\n",
    "    cosmo_ccl = ccl.Cosmology(Omega_c=OmegaC, \n",
    "                              Omega_b=OmegaB, \n",
    "                              h=h, \n",
    "                              sigma8 = sigma8, \n",
    "                              n_s=ns, \n",
    "                              transfer_function='eisenstein_hu')\n",
    "\n",
    "    # produce the linear power\n",
    "    pk_ccl_lin = ccl.linear_matter_power(cosmo_ccl, k, 1.0)\n",
    "    # produce the non linear power\n",
    "    pk_ccl_nonlin = ccl.nonlin_matter_power(cosmo_ccl, k, 1.0)\n",
    "    \n",
    "    Pk_non_lin.append(pk_ccl_nonlin)\n",
    "    Pk_lin.append(pk_ccl_lin)\n",
    "    k_array.append(k)"
   ]
  },
  {
   "cell_type": "code",
   "execution_count": null,
   "id": "7efc59c1-6c98-46bc-9270-b0c7feeac2dc",
   "metadata": {},
   "outputs": [],
   "source": []
  }
 ],
 "metadata": {
  "kernelspec": {
   "display_name": "test_env",
   "language": "python",
   "name": "test_env"
  },
  "language_info": {
   "codemirror_mode": {
    "name": "ipython",
    "version": 3
   },
   "file_extension": ".py",
   "mimetype": "text/x-python",
   "name": "python",
   "nbconvert_exporter": "python",
   "pygments_lexer": "ipython3",
   "version": "3.10.9"
  }
 },
 "nbformat": 4,
 "nbformat_minor": 5
}
