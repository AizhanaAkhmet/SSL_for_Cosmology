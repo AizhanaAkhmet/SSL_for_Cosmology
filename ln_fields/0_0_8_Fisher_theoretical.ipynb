{
 "cells": [
  {
   "cell_type": "markdown",
   "id": "6155fcdf-95f3-4c7d-9f05-6f70019cf818",
   "metadata": {},
   "source": [
    "## (1) Packages and settings"
   ]
  },
  {
   "cell_type": "code",
   "execution_count": 1,
   "id": "f74dc3f4-cd05-4fa3-97a2-a1e3fbd6c33f",
   "metadata": {},
   "outputs": [],
   "source": [
    "import numpy as np\n",
    "import pyccl as ccl"
   ]
  },
  {
   "cell_type": "markdown",
   "id": "417a7cb5-1255-46dd-8d40-dc7ed4d122db",
   "metadata": {},
   "source": [
    "## (2) Compute the independent modes \n",
    "Code adopted from https://github.com/franciscovillaescusa/Pylians3"
   ]
  },
  {
   "cell_type": "code",
   "execution_count": 2,
   "id": "ad589e1f-0581-4432-bea7-6b0c8bfb486e",
   "metadata": {},
   "outputs": [],
   "source": [
    "# same as frequencies but in 2D\n",
    "def frequencies_2D(BoxSize,dims):\n",
    "    kF = 2.0*np.pi/BoxSize;  middle = dims//2;  kN = middle*kF\n",
    "    kmax_par = middle\n",
    "    kmax_per = middle\n",
    "    kmax     = int(np.sqrt(middle**2 + middle**2))\n",
    "    return kF,kN,kmax_par,kmax_per,kmax\n",
    "\n",
    "# This function computes all independent modes\n",
    "def check_number_modes_2D(dims):\n",
    "    # (0,0) own antivector, while (n,n) has (-n,-n) for dims odd\n",
    "    if dims%2==1:  own_modes = 1 \n",
    "    # (0,0),(0,n),(n,0),(n,n)\n",
    "    else:          own_modes = 4\n",
    "    repeated_modes = (dims**2 - own_modes)//2  \n",
    "    indep_modes    = repeated_modes + own_modes\n",
    "    \n",
    "    return indep_modes"
   ]
  },
  {
   "cell_type": "code",
   "execution_count": 3,
   "id": "55137dcb-f1d2-4d91-8f12-18796dcc882e",
   "metadata": {},
   "outputs": [
    {
     "name": "stdout",
     "output_type": "stream",
     "text": [
      "0.006283185307179587 0.43982297150257105 70\n",
      "Number of independent modes:  5002\n"
     ]
    }
   ],
   "source": [
    "Npixel, BoxSize = 100, 1000\n",
    "kF,kN,kmax_par,kmax_per,kmax = frequencies_2D(BoxSize,Npixel)\n",
    "middle = Npixel//2\n",
    "Nmodes = check_number_modes_2D(Npixel)\n",
    "print(kF, kmax*kF, kmax)\n",
    "print('Number of independent modes: ', check_number_modes_2D(Npixel))\n"
   ]
  },
  {
   "cell_type": "code",
   "execution_count": 4,
   "id": "0818273f-2eec-4e71-8f8a-931b4c44eedd",
   "metadata": {},
   "outputs": [],
   "source": [
    "k2D    = np.zeros(kmax+1, dtype=np.float64)\n",
    "Pk2D   = np.zeros(kmax+1, dtype=np.float64)\n",
    "Nmodes = np.zeros(kmax+1, dtype=np.float64)\n",
    "ks = []\n",
    "for kxx in range(Npixel):\n",
    "    kx = (kxx-Npixel if (kxx>middle) else kxx)\n",
    "    for kyy in range(middle+1):\n",
    "        ky = (kyy-Npixel if (kyy>middle) else kyy)\n",
    "        \n",
    "        if ky==0 or (ky==middle and Npixel%2==0):\n",
    "            if kx<0:  \n",
    "                continue\n",
    "                \n",
    "        # compute magnitude |k| of the mode #and its integer part        \n",
    "        k = np.sqrt(kx**2 + ky**2)\n",
    "        k_index = int(k)\n",
    "        ks.append(k)\n",
    "\n",
    "k = np.array(ks[1:])*kF\n"
   ]
  },
  {
   "cell_type": "markdown",
   "id": "1eb5e328-8863-48b1-9c35-f6bb13c9fed7",
   "metadata": {},
   "source": [
    "## (3.1) Compute the power spectrum $P(k)$ for fiducial cosmology"
   ]
  },
  {
   "cell_type": "code",
   "execution_count": 5,
   "id": "04296955-e2c0-4acc-8324-11d0da2e22a7",
   "metadata": {},
   "outputs": [],
   "source": [
    "OmegaM = 0.3\n",
    "sigma8 = 0.8\n",
    "\n",
    "OmegaB = 0.05\n",
    "OmegaC = OmegaM - OmegaB\n",
    "\n",
    "h    = 0.7\n",
    "ns   = 0.96\n",
    "\n",
    "cosmo_ccl = ccl.Cosmology(Omega_c=OmegaC, Omega_b=OmegaB, \n",
    "                          h=h, sigma8 = sigma8, n_s=ns,\n",
    "                          transfer_function='eisenstein_hu')\n",
    "\n",
    "Pk_fid = ccl.linear_matter_power(cosmo_ccl, k, 1.0)"
   ]
  },
  {
   "cell_type": "markdown",
   "id": "725c4fe8-c043-41f4-9437-216c07d1bbb4",
   "metadata": {},
   "source": [
    "## (3.2) Compute the derivatives of P(k) with respect to $\\Omega_M$, $\\sigma_8$"
   ]
  },
  {
   "cell_type": "code",
   "execution_count": 6,
   "id": "8cd8911a-af4d-4abc-964c-67fbd6e1afad",
   "metadata": {},
   "outputs": [],
   "source": [
    "def get_delta_OmegaM(delta, OmegaM_fid, k, sigma8=0.8, OmegaB=0.05, ns= 0.96, h=0.7):\n",
    "    #####################################################\n",
    "    OmegaM = OmegaM_fid + delta\n",
    "    OmegaC = OmegaM - OmegaB\n",
    "    cosmo_ccl = ccl.Cosmology(Omega_c=OmegaC, Omega_b=OmegaB, \n",
    "                              h=h, sigma8 = sigma8, n_s=ns, \n",
    "                              transfer_function='eisenstein_hu')\n",
    "    Pk_delta = ccl.linear_matter_power(cosmo_ccl, k, 1.0)\n",
    "    #####################################################\n",
    "    OmegaM = OmegaM_fid + 2*delta\n",
    "    OmegaC = OmegaM - OmegaB\n",
    "    cosmo_ccl = ccl.Cosmology(Omega_c=OmegaC, Omega_b=OmegaB, \n",
    "                              h=h, sigma8 = sigma8, n_s=ns, \n",
    "                              transfer_function='eisenstein_hu')\n",
    "    Pk_2delta = ccl.linear_matter_power(cosmo_ccl, k, 1.0)\n",
    "    #####################################################\n",
    "    OmegaM = OmegaM_fid - delta\n",
    "    OmegaC = OmegaM - OmegaB\n",
    "    cosmo_ccl = ccl.Cosmology(Omega_c=OmegaC, Omega_b=OmegaB, \n",
    "                              h=h, sigma8 = sigma8, n_s=ns, \n",
    "                              transfer_function='eisenstein_hu')\n",
    "    Pk_neg_delta = ccl.linear_matter_power(cosmo_ccl, k, 1.0)\n",
    "    #####################################################\n",
    "    OmegaM = OmegaM_fid - 2*delta\n",
    "    OmegaC = OmegaM - OmegaB\n",
    "    cosmo_ccl = ccl.Cosmology(Omega_c=OmegaC, Omega_b=OmegaB, \n",
    "                              h=h, sigma8 = sigma8, n_s=ns, \n",
    "                              transfer_function='eisenstein_hu')\n",
    "    Pk_neg_2delta = ccl.linear_matter_power(cosmo_ccl, k, 1.0)\n",
    "    #####################################################\n",
    "    deriv = (-Pk_2delta + 8*Pk_delta - 8*Pk_neg_delta + Pk_neg_2delta)/(12*delta)\n",
    "    \n",
    "    return deriv\n",
    "\n",
    "def get_delta_sigma8(delta, sigma8_fid, k, OmegaM=0.3, OmegaB=0.05, ns=0.96, h=0.7):\n",
    "    OmegaC = OmegaM - OmegaB\n",
    "    #####################################################\n",
    "    sigma8 = sigma8_fid + delta\n",
    "    cosmo_ccl = ccl.Cosmology(Omega_c=OmegaC, Omega_b=OmegaB, \n",
    "                              h=h, sigma8 = sigma8, n_s=ns, \n",
    "                              transfer_function='eisenstein_hu')\n",
    "    Pk_delta = ccl.linear_matter_power(cosmo_ccl, k, 1.0)\n",
    "    #####################################################\n",
    "    sigma8 = sigma8_fid + 2*delta\n",
    "    cosmo_ccl = ccl.Cosmology(Omega_c=OmegaC, Omega_b=OmegaB, \n",
    "                              h=h, sigma8 = sigma8, n_s=ns, \n",
    "                              transfer_function='eisenstein_hu')\n",
    "    Pk_2delta = ccl.linear_matter_power(cosmo_ccl, k, 1.0)\n",
    "    #####################################################\n",
    "    sigma8 = sigma8_fid - delta\n",
    "    cosmo_ccl = ccl.Cosmology(Omega_c=OmegaC, Omega_b=OmegaB, \n",
    "                              h=h, sigma8 = sigma8, n_s=ns, \n",
    "                              transfer_function='eisenstein_hu')\n",
    "    Pk_neg_delta = ccl.linear_matter_power(cosmo_ccl, k, 1.0)\n",
    "    #####################################################\n",
    "    sigma8 = sigma8_fid - 2*delta\n",
    "    cosmo_ccl = ccl.Cosmology(Omega_c=OmegaC, Omega_b=OmegaB, \n",
    "                              h=h, sigma8 = sigma8, n_s=ns, \n",
    "                              transfer_function='eisenstein_hu')\n",
    "    Pk_neg_2delta = ccl.linear_matter_power(cosmo_ccl, k, 1.0)\n",
    "    #####################################################\n",
    "    deriv = (-Pk_2delta + 8*Pk_delta - 8*Pk_neg_delta + Pk_neg_2delta)/(12*delta)\n",
    "    \n",
    "    return deriv"
   ]
  },
  {
   "cell_type": "markdown",
   "id": "b57d8996-100a-4300-a686-d12e559e2b1d",
   "metadata": {},
   "source": [
    "## (4) Compute Fisher matrix"
   ]
  },
  {
   "cell_type": "code",
   "execution_count": 7,
   "id": "89d1d73c-0cc8-421f-9ef2-84c7a4adb6d2",
   "metadata": {},
   "outputs": [],
   "source": [
    "OmegaM_fid = OmegaM\n",
    "delta = 2e-4*OmegaM_fid\n",
    "dPdOmegaM = get_delta_OmegaM(delta, OmegaM_fid, k)\n",
    "\n",
    "sigma8_fid = sigma8\n",
    "delta = 0.05*sigma8_fid \n",
    "dPdsigma8 = get_delta_sigma8(delta, sigma8_fid, k)\n"
   ]
  },
  {
   "cell_type": "code",
   "execution_count": 8,
   "id": "fb95fa0c-363a-4568-b89c-c6925f54adfb",
   "metadata": {},
   "outputs": [
    {
     "name": "stdout",
     "output_type": "stream",
     "text": [
      "Relative Errors on OmegaM, sigma8 in %:  6.449145194480185 1.621833668739181\n",
      "\n",
      "Fisher matrix: \n",
      " [[ 7028.33826638  8251.6304471 ]\n",
      " [ 8251.6304471  15628.125     ]] \n",
      " \n",
      "Inverse Fisher matrix: \n",
      " [[ 0.00037432 -0.00019764]\n",
      " [-0.00019764  0.00016834]]\n",
      "\n",
      "Fisher information:  8.773609123580158\n"
     ]
    }
   ],
   "source": [
    "F_AA = np.sum(dPdOmegaM*dPdOmegaM/Pk_fid**2)/2\n",
    "F_BB = np.sum(dPdsigma8*dPdsigma8/Pk_fid**2)/2\n",
    "F_AB = np.sum(dPdOmegaM*dPdsigma8/Pk_fid**2)/2\n",
    "\n",
    "F_m = np.array([[F_AA, F_AB], [F_AB, F_BB]])\n",
    "F_inv = np.linalg.inv(F_m)\n",
    "stdevA, stdevB = np.sqrt(F_inv[0, 0]), np.sqrt(F_inv[1, 1])\n",
    "print('Relative Errors on OmegaM, sigma8 in %: ', stdevA/OmegaM_fid*100, stdevB/sigma8_fid*100)\n",
    "print('\\nFisher matrix: \\n', F_m, '\\n \\nInverse Fisher matrix: \\n', F_inv)\n",
    "print('\\nFisher information: ', np.log(np.linalg.det(F_m))/2)"
   ]
  },
  {
   "cell_type": "code",
   "execution_count": null,
   "id": "33e1d345-14a8-48de-86f7-1792ffdb6dd1",
   "metadata": {},
   "outputs": [],
   "source": []
  }
 ],
 "metadata": {
  "kernelspec": {
   "display_name": "test_env",
   "language": "python",
   "name": "test_env"
  },
  "language_info": {
   "codemirror_mode": {
    "name": "ipython",
    "version": 3
   },
   "file_extension": ".py",
   "mimetype": "text/x-python",
   "name": "python",
   "nbconvert_exporter": "python",
   "pygments_lexer": "ipython3",
   "version": "3.10.9"
  }
 },
 "nbformat": 4,
 "nbformat_minor": 5
}
