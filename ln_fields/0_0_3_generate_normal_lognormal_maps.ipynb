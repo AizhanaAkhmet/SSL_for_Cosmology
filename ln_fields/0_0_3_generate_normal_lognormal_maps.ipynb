{
 "cells": [
  {
   "cell_type": "code",
   "execution_count": 5,
   "id": "769e5612-b021-4a6d-979f-52f5ea5382a6",
   "metadata": {},
   "outputs": [],
   "source": [
    "import time\n",
    "import numpy as np\n",
    "import matplotlib.pyplot as plt\n",
    "\n",
    "from scipy.interpolate import interp1d\n",
    "import powerbox as pbox"
   ]
  },
  {
   "cell_type": "code",
   "execution_count": null,
   "id": "af12e337-100f-473f-b1f8-eaa6b8043ba5",
   "metadata": {},
   "outputs": [],
   "source": [
    "ks        = np.load(...) # load array of k-values\n",
    "Pk_lin    = np.load(...) # load linear P(k)\n",
    "num_samples = len(ks)\n",
    "\n",
    "splits = 10    # number of augmentations used for the SSL method"
   ]
  },
  {
   "cell_type": "code",
   "execution_count": null,
   "id": "a4418334-1bfc-4475-8cc9-b00406dbb725",
   "metadata": {},
   "outputs": [],
   "source": [
    "maps_lognormal_all = []\n",
    "pk_lognormal_all   = []\n",
    "\n",
    "Npixel  = 100  # Number of grid-points in the box \n",
    "BoxSize = 1000 # size of the box to simulate\n",
    "\n",
    "for i in range(num_samples):\n",
    "    interp_func = interp1d(np.log(ks[i]), np.log(Pk_lin[i]))\n",
    "    \n",
    "    maps_lognormal = []\n",
    "    pk_lognormal   = []\n",
    "    \n",
    "    for j in range(splits):\n",
    "        pb = pbox.PowerBox(\n",
    "            N=Npixel,                     \n",
    "            dim=2,                        \n",
    "            pk = lambda k: np.exp(interp_func(np.log(k)))/BoxSize,\n",
    "            boxlength = BoxSize,           \n",
    "            seed = (splits*i+j),           \n",
    "\n",
    "        )\n",
    "        \n",
    "        # compute lognormal overdensity field from gaussian overdensity field\n",
    "        delta_g = pb.delta_x()\n",
    "        var_g = np.var(delta_g)\n",
    "        rho_ln = np.exp(delta_g - var_g/2)\n",
    "        \n",
    "        maps_lognormal.append(rho_ln - 1)\n",
    "               \n",
    "    maps_lognormal_all.append(maps_lognormal)\n",
    "    pk_lognormal_all.append(pk_lognormal)\n",
    "    "
   ]
  },
  {
   "cell_type": "code",
   "execution_count": null,
   "id": "0e3734d9-06dc-4c53-a090-ce3eb88cba6f",
   "metadata": {},
   "outputs": [],
   "source": []
  }
 ],
 "metadata": {
  "kernelspec": {
   "display_name": "self_supervised_env",
   "language": "python",
   "name": "self_supervised_env"
  },
  "language_info": {
   "codemirror_mode": {
    "name": "ipython",
    "version": 3
   },
   "file_extension": ".py",
   "mimetype": "text/x-python",
   "name": "python",
   "nbconvert_exporter": "python",
   "pygments_lexer": "ipython3",
   "version": "3.7.13"
  }
 },
 "nbformat": 4,
 "nbformat_minor": 5
}
