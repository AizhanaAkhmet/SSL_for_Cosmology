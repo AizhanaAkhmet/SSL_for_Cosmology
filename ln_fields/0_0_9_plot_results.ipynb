{
 "cells": [
  {
   "cell_type": "markdown",
   "id": "5950e8d8-9cd3-4a32-a5d1-03296d19d082",
   "metadata": {},
   "source": [
    "## Packages and settings"
   ]
  },
  {
   "cell_type": "code",
   "execution_count": 36,
   "id": "c5152731-e7b3-4ce8-9d4f-c508ad39e9a1",
   "metadata": {},
   "outputs": [],
   "source": [
    "import os, sys, pickle\n",
    "import numpy as np \n",
    "\n",
    "\n",
    "import torch\n",
    "\n",
    "from sbi.inference import SNPE, prepare_for_sbi, simulate_for_sbi\n",
    "from sbi.utils.get_nn_models import posterior_nn\n",
    "from sbi import utils as utils\n",
    "from sbi import analysis as analysis\n",
    "from sbi.utils import get_density_thresholder, RestrictedPrior\n"
   ]
  },
  {
   "cell_type": "code",
   "execution_count": 37,
   "id": "d4452b23-491d-4638-a510-47669540b568",
   "metadata": {},
   "outputs": [],
   "source": [
    "from tqdm.notebook import tqdm\n",
    "from nflows import distributions as distributions_\n",
    "from nflows import flows, transforms\n",
    "from nflows.nn import nets"
   ]
  },
  {
   "cell_type": "code",
   "execution_count": 38,
   "id": "a08c7722-05c6-402b-ae33-0b32fbe3d313",
   "metadata": {},
   "outputs": [
    {
     "name": "stdout",
     "output_type": "stream",
     "text": [
      "Device: cpu\n"
     ]
    }
   ],
   "source": [
    "# use GPU if available\n",
    "device = 'cpu'\n",
    "print('Device: %s'%(device))"
   ]
  },
  {
   "cell_type": "code",
   "execution_count": 39,
   "id": "8d9b3bb7-feec-4813-9179-4133a407bdea",
   "metadata": {},
   "outputs": [],
   "source": [
    "# settings for plots\n",
    "import matplotlib\n",
    "import matplotlib.pyplot as plt\n",
    "font = {'family' : 'serif',\n",
    "        'weight' : 'normal',\n",
    "        'size'   : 10}\n",
    "matplotlib.rc('font', **font)\n",
    "\n",
    "rcnew = {\"mathtext.fontset\" : \"cm\", \n",
    "         \"xtick.labelsize\" : 18,\n",
    "         \"ytick.labelsize\" : 18,\n",
    "         \"axes.titlesize\" : 26, \n",
    "         \"axes.labelsize\" : 22,\n",
    "         \"xtick.major.size\" : 8,      \n",
    "         \"xtick.minor.size\" : 4,     \n",
    "         \"ytick.major.size\" : 8,      \n",
    "         \"ytick.minor.size\" : 4,      \n",
    "         \"legend.fontsize\" : 22,\n",
    "         'figure.titlesize' : 30,\n",
    "         'errorbar.capsize' : 4,\n",
    "         'axes.xmargin': 0.05,\n",
    "          'axes.ymargin': 0.05,\n",
    "        }\n",
    "plt.rcParams.update(rcnew)\n",
    "plt.style.use('tableau-colorblind10')\n",
    "\n",
    "%config InlineBackend.figure_format = 'retina'\n"
   ]
  },
  {
   "cell_type": "code",
   "execution_count": 40,
   "id": "3e178746-a0ee-4660-8d79-fd108e723c67",
   "metadata": {},
   "outputs": [],
   "source": [
    "num_dim = 2\n",
    "low_priors  = torch.tensor([0.15, 0.65])\n",
    "high_priors = torch.tensor([0.45, 0.95])\n",
    "prior = utils.BoxUniform(low= low_priors, high=high_priors)"
   ]
  },
  {
   "cell_type": "markdown",
   "id": "92d926b2-b0a7-4dea-ac9b-1fc507c663c6",
   "metadata": {},
   "source": [
    "## Get the simulator"
   ]
  },
  {
   "cell_type": "code",
   "execution_count": 41,
   "id": "91c5fd11-01e4-4eac-8b51-e0f35f9a7513",
   "metadata": {},
   "outputs": [],
   "source": [
    "def build_maf(dim=1, num_transforms=8, context_features=None, hidden_features=128):\n",
    "    transform = transforms.CompositeTransform(\n",
    "        [\n",
    "            transforms.CompositeTransform(\n",
    "                [\n",
    "                    transforms.MaskedAffineAutoregressiveTransform(\n",
    "                        features=dim,\n",
    "                        hidden_features=hidden_features,\n",
    "                        context_features=context_features,\n",
    "                        num_blocks=2,\n",
    "                        use_residual_blocks=False,\n",
    "                        random_mask=False,\n",
    "                        activation=torch.tanh,\n",
    "                        dropout_probability=0.0,\n",
    "                        use_batch_norm=False,\n",
    "                    ),\n",
    "                    transforms.RandomPermutation(features=dim),\n",
    "                ]\n",
    "            )\n",
    "            for _ in range(num_transforms)\n",
    "        ]\n",
    "    )\n",
    "\n",
    "    distribution = distributions_.StandardNormal((dim,))\n",
    "    neural_net = flows.Flow(transform, distribution)\n",
    "\n",
    "    return neural_net\n"
   ]
  },
  {
   "cell_type": "code",
   "execution_count": 42,
   "id": "aeacaa01-ff4f-465e-831b-a29fc1886373",
   "metadata": {},
   "outputs": [],
   "source": [
    "# load the emulator model\n",
    "fmodel = ...\n",
    "\n",
    "last_layer = 16\n",
    "flow_net = build_maf(dim=last_layer, context_features=2).to(device=device)\n",
    "flow_net.load_state_dict(torch.load(fmodel, map_location=torch.device(device)))\n",
    "flow_net.eval(); "
   ]
  },
  {
   "cell_type": "code",
   "execution_count": 43,
   "id": "d7b6190d-7485-407b-bb84-1bdf588c19d8",
   "metadata": {},
   "outputs": [],
   "source": [
    "def flow_simulator(theta, num_samples=1):\n",
    "    \"\"\" \n",
    "    Simulator by sampling from the trained normalizing flow\n",
    "    \"\"\"\n",
    "    x = flow_net.sample(num_samples=num_samples, context=theta).detach().numpy()\n",
    "    return torch.tensor(x[:, 0, :])\n",
    "    "
   ]
  },
  {
   "cell_type": "code",
   "execution_count": 44,
   "id": "c47c406a-99cf-4a5d-ac96-d92dc5fbc7de",
   "metadata": {},
   "outputs": [],
   "source": [
    "# define observed summary vector s_obs; x_obs is the vector with true parameters\n",
    "x_obs = torch.tensor([0.3, 0.8])\n",
    "s_obs = torch.tensor([-0.0526,  0.0639,  0.1161,  0.1865,  0.2849, -0.2777,  \n",
    "                      0.0077,  0.0468, -0.2226,  0.0172,  0.1345, -0.1732, -0.0653,  \n",
    "                      0.1205, -0.1382, -0.1818])"
   ]
  },
  {
   "cell_type": "markdown",
   "id": "eb5caf29-68c4-48cc-ab91-7bbf3403cc68",
   "metadata": {},
   "source": [
    "## Load and sample the posterior obtained w/ emulator and sbi"
   ]
  },
  {
   "cell_type": "code",
   "execution_count": null,
   "id": "4871a9bb-1715-43d8-8a88-9544001e4a97",
   "metadata": {},
   "outputs": [],
   "source": [
    "OmegaM, sigma8 = x_obs[0], x_obs[1]\n",
    "\n",
    "posterior = pickle.load(open(.., \"rb\"))\n",
    "posterior_samples = posterior.sample((10000,), x=s_obs)\n",
    "\n",
    "# plot posterior samples\n",
    "_ = analysis.pairplot(\n",
    "    posterior_samples, limits=[[0.15, 0.45], [0.65, 0.95],], figsize=(5, 5)\n",
    ")"
   ]
  },
  {
   "cell_type": "markdown",
   "id": "a27657ff-db99-42eb-afab-13755a808d16",
   "metadata": {},
   "source": [
    "## Plot posterior samples w/ getdist"
   ]
  },
  {
   "cell_type": "code",
   "execution_count": 48,
   "id": "d5718551-ed02-450d-9ac5-f278974c9ada",
   "metadata": {},
   "outputs": [],
   "source": [
    "# plot formatting \n",
    "import matplotlib\n",
    "import matplotlib.pyplot as plt\n",
    "font = {'family' : 'serif',\n",
    "        'weight' : 'normal',\n",
    "        'size'   : 10}\n",
    "matplotlib.rc('font', **font)\n",
    "\n",
    "rcnew = {\"mathtext.fontset\" : \"cm\", \n",
    "         \"xtick.labelsize\" : 18,\n",
    "         \"ytick.labelsize\" : 18,\n",
    "         \"axes.titlesize\" : 26, \n",
    "         \"axes.labelsize\" : 22,\n",
    "         \"xtick.major.size\" : 8,      \n",
    "         \"xtick.minor.size\" : 4,      \n",
    "         \"ytick.major.size\" : 8,      \n",
    "         \"ytick.minor.size\" : 4,      \n",
    "         \"legend.fontsize\" : 22,\n",
    "         'figure.titlesize' : 30,\n",
    "         'errorbar.capsize' : 4,\n",
    "         'axes.xmargin': 0.05,\n",
    "          'axes.ymargin': 0.05,\n",
    "        }\n",
    "plt.rcParams.update(rcnew)\n",
    "plt.style.use('tableau-colorblind10')"
   ]
  },
  {
   "cell_type": "code",
   "execution_count": null,
   "id": "09cf304a-e8af-4e41-9ad7-9c98a2b884ba",
   "metadata": {},
   "outputs": [],
   "source": [
    "from getdist import plots, MCSamples\n",
    "import getdist\n",
    "names = ['OmegaM', 'sigma8']\n",
    "labels =  ['\\Omega_M', '\\sigma_8']\n",
    "params = x_obs.cpu().numpy()\n",
    "\n",
    "posteriorSamples = MCSamples(samples=posterior_samples.cpu().numpy(), \n",
    "                             names = names, labels = labels, \n",
    "                             label='Emulator')\n",
    "\n",
    "%matplotlib inline\n",
    "g = plots.get_subplot_plotter(3.5)\n",
    "g.settings.rc_sizes(legend_fontsize=18)\n",
    "g.triangle_plot([posteriorSamples,],\n",
    "                filled=False,\n",
    "                markers={'OmegaM':params[0], 'sigma8':params[1]},\n",
    "                labels = ['Emulator'],\n",
    "                contour_colors=['forestgreen'], \n",
    "                contour_ls=[ '-'],\n",
    "                contour_lws=2.5,\n",
    "                legend_fontsize =40,\n",
    "                legend_loc='upper right'\n",
    "               )"
   ]
  },
  {
   "cell_type": "code",
   "execution_count": null,
   "id": "82b29375-339a-4b10-a79e-64ccd7de558e",
   "metadata": {},
   "outputs": [],
   "source": []
  }
 ],
 "metadata": {
  "kernelspec": {
   "display_name": "test_env",
   "language": "python",
   "name": "test_env"
  },
  "language_info": {
   "codemirror_mode": {
    "name": "ipython",
    "version": 3
   },
   "file_extension": ".py",
   "mimetype": "text/x-python",
   "name": "python",
   "nbconvert_exporter": "python",
   "pygments_lexer": "ipython3",
   "version": "3.10.9"
  }
 },
 "nbformat": 4,
 "nbformat_minor": 5
}
